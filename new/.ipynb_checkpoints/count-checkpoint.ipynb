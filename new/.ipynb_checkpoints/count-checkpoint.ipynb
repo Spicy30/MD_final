{
 "cells": [
  {
   "cell_type": "code",
   "execution_count": 6,
   "metadata": {
    "collapsed": false
   },
   "outputs": [
    {
     "name": "stdout",
     "output_type": "stream",
     "text": [
      "2426\n",
      "[['Intersection_id', 'AM_count', 'PM_count'], ['1', 64, 140], ['2', 27, 37], ['3', 55, 51], ['4', 53, 97], ['5', 21, 81], ['6', 27, 82], ['7', 12, 31], ['8', 21, 27], ['9', 46, 129], ['10', 5, 6], ['11', 37, 102], ['12', 27, 39], ['13', 17, 27], ['14', 15, 34], ['15', 7, 16], ['16', 20, 43], ['17', 55, 73], ['18', 31, 41], ['19', 22, 32], ['20', 14, 23], ['21', 24, 45], ['22', 28, 43], ['23', 41, 74], ['24', 35, 50], ['25', 22, 18], ['26', 31, 38], ['27', 18, 18], ['28', 33, 44], ['29', 3, 6], ['30', 10, 13], ['31', 2, 3], ['32', 11, 12], ['33', 1, 0], ['34', 4, 3], ['35', 32, 45], ['36', 2, 1], ['37', 0, 0], ['38', 9, 20]]\n"
     ]
    }
   ],
   "source": [
    "import sys\n",
    "import os\n",
    "import csv\n",
    "from pyproj import *\n",
    "\n",
    "\n",
    "A = 0.00001549\n",
    "B = 0.000006521\n",
    "p = Proj(r\"+proj=tmerc +ellps=GRS80 +lon_0=121 +x_0=250000 +k=0.9999\")\n",
    "\n",
    "def TWD67ToTWD97(X67, Y67):\n",
    "    X97=X67+807.8+A*X67+B*Y67\n",
    "    Y97=Y67-248.6+A*Y67+B*X67\n",
    "    return (X97, Y97)\n",
    "\n",
    "def TWD97ToWGS84(X97, Y97):\n",
    "    ''' \n",
    "    cmd = 'echo %.15f %.15f | proj -I +proj=tmerc +ellps=GRS80 +lon_0=121 +x_0=250000 +k=0.9999 -f \"%%.15f\"' %(X97, Y97)\n",
    "    result = os.popen(cmd).read().strip()\n",
    "    result = result.split()\n",
    "    WGS84_X = float(result[0])\n",
    "    WGS84_Y = float(result[1])\n",
    "    '''\n",
    "    (WGS84_X, WGS84_Y) = p(X97, Y97, inverse=True)\n",
    "    return (WGS84_X, WGS84_Y)\n",
    "\n",
    "if __name__ == '__main__':\n",
    "    \n",
    "    year = '97'\n",
    "    with open( '../'+ year + 'y_twd97.csv', 'r') as file, open(year + '_count.txt','w') as out:\n",
    "        next(file)\n",
    "        count = 0\n",
    "        intersections = []\n",
    "        infos = []\n",
    "        infos.append(['Intersection_id','AM_count','PM_count'])\n",
    "        \n",
    "        \n",
    "        '''\n",
    "        with open('position.txt','r') as posfile:\n",
    "            next(posfile)\n",
    "            for pos in csv.reader(posfile,delimiter='\\t'):\n",
    "                y = float(pos[0])\n",
    "                x = float(pos[1])\n",
    "                intersections.append([x,y])\n",
    "        '''\n",
    "        \n",
    "        with open('../intersection_no_ch.txt','r') as posfile:\n",
    "            next(posfile)\n",
    "            for intersection in csv.reader(posfile,delimiter=','):\n",
    "                intersections.append(intersection)\n",
    "                infos.append([intersection[0],0,0])\n",
    "        #print(intersections)\n",
    "        \n",
    "        \n",
    "        \n",
    "        for accident in csv.reader(file):\n",
    "            #print type(accident[4])\n",
    "            x67 = float(accident[4])\n",
    "            y67 = float(accident[5])\n",
    "            time = int(accident[1])%10000\n",
    "            (x97, y97) = TWD67ToTWD97(x67,y67)\n",
    "            (x,y) = TWD97ToWGS84(x67, y67)\n",
    "            for intersection in intersections:\n",
    "                x1 = 1000*x\n",
    "                y1 = 1000*y\n",
    "                x2 = float(intersection[2])*1000\n",
    "                y2 = float(intersection[1])*1000\n",
    "                #print x1,y1,x2,y2\n",
    "                if (x1-x2)*(x1-x2) + (y1-y2)*(y1-y2) < 9:\n",
    "                    count += 1\n",
    "                    if time > 1200:\n",
    "                        infos[int(intersection[0])][2] += 1\n",
    "                    else:\n",
    "                        infos[int(intersection[0])][1] += 1\n",
    "                    \n",
    "                    break\n",
    "        print(count)\n",
    "        print(infos)\n",
    "        \n",
    "        \n",
    "        csv.writer(out).writerows(infos)\n",
    "        \n",
    "        \n",
    "        \n",
    "    \n",
    "\n",
    "\n",
    "\n",
    "\n",
    "\n"
   ]
  },
  {
   "cell_type": "code",
   "execution_count": null,
   "metadata": {
    "collapsed": true
   },
   "outputs": [],
   "source": []
  }
 ],
 "metadata": {
  "anaconda-cloud": {},
  "kernelspec": {
   "display_name": "Python 2",
   "language": "python",
   "name": "python2"
  },
  "language_info": {
   "codemirror_mode": {
    "name": "ipython",
    "version": 2
   },
   "file_extension": ".py",
   "mimetype": "text/x-python",
   "name": "python",
   "nbconvert_exporter": "python",
   "pygments_lexer": "ipython2",
   "version": "2.7.12"
  }
 },
 "nbformat": 4,
 "nbformat_minor": 0
}
