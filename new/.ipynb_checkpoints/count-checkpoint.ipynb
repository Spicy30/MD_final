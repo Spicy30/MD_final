{
 "cells": [
  {
   "cell_type": "code",
   "execution_count": 8,
   "metadata": {
    "collapsed": false
   },
   "outputs": [
    {
     "name": "stdout",
     "output_type": "stream",
     "text": [
      "3617\n",
      "[['Intersection_id', 'AM_count', 'PM_count'], ['1', 201, 97], ['2', 72, 29], ['3', 124, 55], ['4', 174, 66], ['5', 93, 43], ['6', 121, 52], ['7', 61, 27], ['8', 52, 31], ['9', 176, 82], ['10', 12, 6], ['11', 160, 61], ['12', 65, 33], ['13', 52, 18], ['14', 51, 29], ['15', 14, 12], ['16', 69, 37], ['17', 109, 84], ['18', 56, 43], ['19', 49, 21], ['20', 20, 18], ['21', 52, 29], ['22', 82, 43], ['23', 110, 48], ['24', 60, 39], ['25', 39, 28], ['26', 60, 49], ['27', 29, 16], ['28', 75, 38], ['29', 9, 3], ['30', 26, 16], ['31', 7, 4], ['32', 12, 11], ['33', 2, 1], ['34', 15, 5], ['35', 50, 31], ['36', 8, 3], ['37', 2, 0], ['38', 23, 17]]\n"
     ]
    }
   ],
   "source": [
    "import sys\n",
    "import os\n",
    "import csv\n",
    "from pyproj import *\n",
    "\n",
    "\n",
    "A = 0.00001549\n",
    "B = 0.000006521\n",
    "p = Proj(r\"+proj=tmerc +ellps=GRS80 +lon_0=121 +x_0=250000 +k=0.9999\")\n",
    "\n",
    "def TWD67ToTWD97(X67, Y67):\n",
    "    X97=X67+807.8+A*X67+B*Y67\n",
    "    Y97=Y67-248.6+A*Y67+B*X67\n",
    "    return (X97, Y97)\n",
    "\n",
    "def TWD97ToWGS84(X97, Y97):\n",
    "    ''' \n",
    "    cmd = 'echo %.15f %.15f | proj -I +proj=tmerc +ellps=GRS80 +lon_0=121 +x_0=250000 +k=0.9999 -f \"%%.15f\"' %(X97, Y97)\n",
    "    result = os.popen(cmd).read().strip()\n",
    "    result = result.split()\n",
    "    WGS84_X = float(result[0])\n",
    "    WGS84_Y = float(result[1])\n",
    "    '''\n",
    "    (WGS84_X, WGS84_Y) = p(X97, Y97, inverse=True)\n",
    "    return (WGS84_X, WGS84_Y)\n",
    "\n",
    "if __name__ == '__main__':\n",
    "    \n",
    "    year = '102'\n",
    "    with open( '../'+ year + 'y_twd97.csv', 'r') as file, open(year + '_count.txt','w') as out:\n",
    "        next(file)\n",
    "        count = 0\n",
    "        intersections = []\n",
    "        infos = []\n",
    "        infos.append(['Intersection_id','AM_count','PM_count'])\n",
    "        \n",
    "        \n",
    "        '''\n",
    "        with open('position.txt','r') as posfile:\n",
    "            next(posfile)\n",
    "            for pos in csv.reader(posfile,delimiter='\\t'):\n",
    "                y = float(pos[0])\n",
    "                x = float(pos[1])\n",
    "                intersections.append([x,y])\n",
    "        '''\n",
    "        \n",
    "        with open('../intersection_no_ch.txt','r') as posfile:\n",
    "            next(posfile)\n",
    "            for intersection in csv.reader(posfile,delimiter=','):\n",
    "                intersections.append(intersection)\n",
    "                infos.append([intersection[0],0,0])\n",
    "        #print(intersections)\n",
    "        \n",
    "        \n",
    "        \n",
    "        for accident in csv.reader(file):\n",
    "            #print type(accident[4])\n",
    "            x67 = float(accident[4])\n",
    "            y67 = float(accident[5])\n",
    "            time = int(accident[1])%10000\n",
    "            (x97, y97) = TWD67ToTWD97(x67,y67)\n",
    "            (x,y) = TWD97ToWGS84(x67, y67)\n",
    "            for intersection in intersections:\n",
    "                x1 = 1000*x\n",
    "                y1 = 1000*y\n",
    "                x2 = float(intersection[2])*1000\n",
    "                y2 = float(intersection[1])*1000\n",
    "                #print x1,y1,x2,y2\n",
    "                if (x1-x2)*(x1-x2) + (y1-y2)*(y1-y2) < 9:\n",
    "                    count += 1\n",
    "                    if time > 1200:\n",
    "                        infos[int(intersection[0])][1] += 1\n",
    "                    else:\n",
    "                        infos[int(intersection[0])][2] += 1\n",
    "                    \n",
    "                    break\n",
    "        print(count)\n",
    "        print(infos)\n",
    "        \n",
    "        \n",
    "        csv.writer(out).writerows(infos)\n",
    "        \n",
    "        \n",
    "        \n",
    "    \n",
    "\n",
    "\n",
    "\n",
    "\n",
    "\n"
   ]
  },
  {
   "cell_type": "code",
   "execution_count": null,
   "metadata": {
    "collapsed": true
   },
   "outputs": [],
   "source": []
  }
 ],
 "metadata": {
  "anaconda-cloud": {},
  "kernelspec": {
   "display_name": "Python 2",
   "language": "python",
   "name": "python2"
  },
  "language_info": {
   "codemirror_mode": {
    "name": "ipython",
    "version": 2
   },
   "file_extension": ".py",
   "mimetype": "text/x-python",
   "name": "python",
   "nbconvert_exporter": "python",
   "pygments_lexer": "ipython2",
   "version": "2.7.12"
  }
 },
 "nbformat": 4,
 "nbformat_minor": 0
}
